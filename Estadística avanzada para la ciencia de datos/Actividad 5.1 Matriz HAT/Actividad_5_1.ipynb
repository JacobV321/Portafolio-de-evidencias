{
  "nbformat": 4,
  "nbformat_minor": 0,
  "metadata": {
    "colab": {
      "provenance": []
    },
    "kernelspec": {
      "name": "python3",
      "display_name": "Python 3"
    },
    "language_info": {
      "name": "python"
    }
  },
  "cells": [
    {
      "cell_type": "markdown",
      "source": [
        "Jacob Valdenegro A01640992\n",
        "\n",
        "Roberto Rillo A01642022"
      ],
      "metadata": {
        "id": "zApitW7_wOMi"
      }
    },
    {
      "cell_type": "markdown",
      "source": [
        "Verifiar los resultados utilizando Python."
      ],
      "metadata": {
        "id": "wWne9oaHn3LB"
      }
    },
    {
      "cell_type": "code",
      "source": [
        "import numpy as np\n",
        "\n",
        "X = np.array([[1, 2],\n",
        "              [1, 3],\n",
        "              [1, 5],\n",
        "              [1, 7],\n",
        "              [1, 9]])\n",
        "\n",
        "# Calcular la matriz HAT\n",
        "H = X @ np.linalg.inv(X.T @ X) @ X.T\n",
        "\n",
        "# Valores reales de y\n",
        "y = np.array([5, 8, 7, 10, 12])\n",
        "\n",
        "# Valores predichos: ŷ = H * y\n",
        "y_pred = H @ y\n",
        "\n",
        "# Coeficientes de regresión: β = (X^T X)^(-1) X^T y\n",
        "beta = np.linalg.inv(X.T @ X) @ X.T @ y\n",
        "\n",
        "# Imprimir resultados\n",
        "print(\"Matriz HAT (H):\\n\", H)\n",
        "print(\"\\nValores predichos (ŷ):\\n\", y_pred)\n",
        "print(\"\\nCoeficientes de la regresión (β):\\n\", beta)\n"
      ],
      "metadata": {
        "colab": {
          "base_uri": "https://localhost:8080/"
        },
        "id": "3LlqO2Ly9z0Z",
        "outputId": "967c8316-d3e6-4bf7-e9f7-98ca00dd46ea"
      },
      "execution_count": 19,
      "outputs": [
        {
          "output_type": "stream",
          "name": "stdout",
          "text": [
            "Matriz HAT (H):\n",
            " [[ 0.51219512  0.41463415  0.2195122   0.02439024 -0.17073171]\n",
            " [ 0.41463415  0.34756098  0.21341463  0.07926829 -0.05487805]\n",
            " [ 0.2195122   0.21341463  0.20121951  0.18902439  0.17682927]\n",
            " [ 0.02439024  0.07926829  0.18902439  0.29878049  0.40853659]\n",
            " [-0.17073171 -0.05487805  0.17682927  0.40853659  0.6402439 ]]\n",
            "\n",
            "Valores predichos (ŷ):\n",
            " [ 5.6097561   6.48170732  8.22560976  9.9695122  11.71341463]\n",
            "\n",
            "Coeficientes de la regresión (β):\n",
            " [3.86585366 0.87195122]\n"
          ]
        }
      ]
    },
    {
      "cell_type": "markdown",
      "source": [
        "Utilizando los Datos “Cirugía de Hígado” obtener la matriz HAT, los valores predichos, y ̂, y los coeficientes de la ecuación de regresión β utilizando el método de matrices."
      ],
      "metadata": {
        "id": "_wGhIi2poCCL"
      }
    },
    {
      "cell_type": "code",
      "source": [
        "import pandas as pd\n",
        "from sklearn.preprocessing import MinMaxScaler\n",
        "import numpy as np\n",
        "\n",
        "# Cargar el archivo Excel\n",
        "archivo = 'Covarianza, Correlación y HAT.xlsx'\n",
        "datos = pd.read_excel(archivo)\n",
        "\n",
        "# Verifica que los datos se cargaron correctamente\n",
        "print(datos.head())  # Muestra las primeras filas\n"
      ],
      "metadata": {
        "colab": {
          "base_uri": "https://localhost:8080/"
        },
        "id": "HVP138ohS0Qv",
        "outputId": "678c2e5d-f945-41ad-8f78-a3eb65c8bcc8"
      },
      "execution_count": null,
      "outputs": [
        {
          "output_type": "stream",
          "name": "stdout",
          "text": [
            "   Factor Coagulación  Índice pronóstico  Función de enzima  \\\n",
            "0                 6.7                 62                 81   \n",
            "1                 5.1                 59                 66   \n",
            "2                 7.4                 57                 83   \n",
            "3                 6.5                 73                 41   \n",
            "4                 7.8                 65                115   \n",
            "\n",
            "   Función de hígado  Edad  Género  Alcohol (moderado)  Alcohol (severo)  \\\n",
            "0               2.59    50       0                   1                 0   \n",
            "1               1.70    39       0                   0                 0   \n",
            "2               2.16    55       0                   0                 0   \n",
            "3               2.01    48       0                   0                 0   \n",
            "4               4.30    45       0                   0                 1   \n",
            "\n",
            "   Sobrevivencia (días)  \n",
            "0                   695  \n",
            "1                   403  \n",
            "2                   710  \n",
            "3                   349  \n",
            "4                  2343  \n"
          ]
        }
      ]
    },
    {
      "cell_type": "code",
      "source": [
        "# Variables predictoras: todas menos 'Sobrevivencia (días)'\n",
        "X = datos.drop(columns=['Sobrevivencia (días)'])\n",
        "\n",
        "# Variable objetivo\n",
        "y = datos['Sobrevivencia (días)']\n",
        "\n",
        "# Escalar las variables predictoras\n",
        "scaler = MinMaxScaler()\n",
        "X_scaled = scaler.fit_transform(X)\n",
        "\n",
        "# Convertir a matriz NumPy\n",
        "X_scaled = np.array(X_scaled)\n",
        "y = np.array(y)\n"
      ],
      "metadata": {
        "id": "k-rQGqNeTINa"
      },
      "execution_count": null,
      "outputs": []
    },
    {
      "cell_type": "code",
      "source": [
        "X_scaled = np.hstack([np.ones((X_scaled.shape[0], 1)), X_scaled])\n",
        "\n",
        "# Calcular la matriz HAT\n",
        "XTX_inv = np.linalg.inv(X_scaled.T @ X_scaled)\n",
        "H = X_scaled @ XTX_inv @ X_scaled.T\n",
        "\n",
        "# Calcular los coeficientes β\n",
        "beta = XTX_inv @ X_scaled.T @ y\n",
        "\n",
        "# Calcular los valores predichos\n",
        "y_pred = X_scaled @ beta\n",
        "\n",
        "# Valores de apalancamiento (diagonal de la matriz HAT)\n",
        "apalancamiento = np.diag(H)\n"
      ],
      "metadata": {
        "id": "HuuLlVbFTvv9"
      },
      "execution_count": null,
      "outputs": []
    },
    {
      "cell_type": "code",
      "source": [
        "# Imprimir resultados\n",
        "print(\"\\nCoeficientes de la regresión (β):\")\n",
        "print(beta)\n",
        "\n",
        "print(\"\\nValores predichos (ŷ):\")\n",
        "print(y_pred)\n",
        "\n",
        "print(\"\\nValores de apalancamiento:\")\n",
        "print(apalancamiento)\n",
        "\n",
        "print(\"\\nMatriz HAT:\")\n",
        "print(H)"
      ],
      "metadata": {
        "colab": {
          "base_uri": "https://localhost:8080/"
        },
        "id": "b8Sk0r0IUMxZ",
        "outputId": "231a380b-478d-4d79-8224-0b791294ca5b"
      },
      "execution_count": null,
      "outputs": [
        {
          "output_type": "stream",
          "name": "stdout",
          "text": [
            "\n",
            "Coeficientes de la regresión (β):\n",
            "[-575.86374747  453.26085291  738.23244281  854.14304366  429.43164879\n",
            "   25.63892773   13.09258075  -41.26764482  195.70703222]\n",
            "\n",
            "Valores predichos (ŷ):\n",
            "[ 706.25623722  430.82292124  732.22983195  425.03957611 1454.587552\n",
            "  317.98512422  561.43434506  620.57029786  814.99238167  761.68391557\n",
            "  989.9519364   228.02181205 1394.13461057 1050.29172024  937.95668893\n",
            "  732.48434715  418.09976441   58.32293366  857.99665125  939.03472439\n",
            "  555.53153245  366.02513011  485.52130235  817.77817446  861.31877768\n",
            "  669.35808718  592.75876392 1619.88673751  399.48541635  596.03964243\n",
            "  257.21831085  163.93595245  594.67195134 1143.59947369  512.12738287\n",
            "  702.86128551  629.09497899  563.49249113  556.62971999  607.66774824\n",
            "  423.46168884  569.50576666 1363.25897377  625.40911054  688.74643782\n",
            "  590.69719298  948.046226   1333.78069235  712.00261732 1065.38071841\n",
            "  462.70846831  649.64082214  690.30288166  958.05440017  330.98090005\n",
            "  811.81615789  635.24982009  367.64186795  629.61451147  469.62155034\n",
            "  154.73023565  369.81392347  403.26975861  902.08295831  600.59893803\n",
            "  772.29123143  207.7278467   396.43186123 1229.83955625  633.00436345\n",
            "  424.81983957  475.31740512  993.2862035   197.38922035 1290.08457201\n",
            "  605.07146825 1006.51638101  817.39664738  616.69071501  333.13872555\n",
            "  621.92856032  678.01871248  455.39524007  842.81200029  215.61353579\n",
            " 1044.1331181   629.57478633  526.79553852  902.07905149  722.37107654\n",
            "  212.15682923  745.77909508  242.52437636  565.21119037  222.12633537\n",
            "  839.18478601  535.39633923  868.71602558  607.10394711  277.08092447\n",
            " 1086.53421927  698.14563064 1093.148018    566.51505469  568.33491022\n",
            "  584.36793863  385.90989128  459.71998145]\n",
            "\n",
            "Valores de apalancamiento:\n",
            "[0.03714196 0.06106075 0.09511866 0.07234516 0.11942645 0.08065189\n",
            " 0.07642418 0.07843142 0.05461582 0.07009281 0.07159644 0.04962392\n",
            " 0.13226894 0.05700003 0.07881398 0.07780303 0.11185145 0.10082189\n",
            " 0.05958639 0.08650172 0.06043351 0.11175274 0.12660129 0.03285494\n",
            " 0.06822654 0.05336978 0.06117105 0.21015924 0.0637799  0.04627201\n",
            " 0.07765548 0.1382091  0.07017845 0.07616134 0.06096139 0.05026388\n",
            " 0.09800896 0.2127648  0.03475134 0.08648634 0.05249874 0.14410901\n",
            " 0.18602117 0.03727933 0.12612543 0.05678346 0.06061771 0.12127331\n",
            " 0.05897746 0.13267214 0.05612883 0.12188549 0.05172967 0.11945507\n",
            " 0.08982727 0.06521368 0.15044357 0.08925879 0.09766654 0.1493418\n",
            " 0.09388399 0.10980073 0.05614709 0.0760336  0.04568778 0.05055969\n",
            " 0.11489641 0.05145828 0.10340551 0.06096153 0.05972407 0.06740464\n",
            " 0.09018131 0.10956971 0.11351692 0.09159203 0.05941746 0.05413813\n",
            " 0.08807509 0.12946688 0.03965555 0.09675421 0.08221149 0.05637406\n",
            " 0.09542024 0.10265085 0.10503717 0.08818435 0.0813272  0.03353834\n",
            " 0.04151066 0.08399356 0.05901144 0.08170849 0.10319491 0.05440942\n",
            " 0.06707476 0.09243314 0.05273941 0.05580399 0.07672453 0.08439488\n",
            " 0.12997958 0.03064927 0.07615033 0.10349403 0.06246334 0.05864247]\n",
            "\n",
            "Matriz HAT:\n",
            "[[ 0.03714196  0.01278513  0.03153001 ... -0.0107616   0.03002929\n",
            "   0.00244981]\n",
            " [ 0.01278513  0.06106075  0.04827415 ...  0.02342793  0.0143413\n",
            "   0.03831749]\n",
            " [ 0.03153001  0.04827415  0.09511866 ...  0.02121118  0.02055136\n",
            "   0.03079561]\n",
            " ...\n",
            " [-0.0107616   0.02342793  0.02121118 ...  0.10349403  0.00417997\n",
            "   0.03037262]\n",
            " [ 0.03002929  0.0143413   0.02055136 ...  0.00417997  0.06246334\n",
            "  -0.00802438]\n",
            " [ 0.00244981  0.03831749  0.03079561 ...  0.03037262 -0.00802438\n",
            "   0.05864247]]\n"
          ]
        }
      ]
    },
    {
      "cell_type": "markdown",
      "source": [
        "La suma de los valores de apalancamiento (o leverages) es igual al número de coeficientes de la regresión en un modelo de regresión lineal, estos valores tambien reflejan qué tan influyentes son en la estimación de los coeficientes de regresión.\n",
        "\n",
        "La ecuación de regresión seria:\n",
        "\n",
        "ŷ = -575.86 * X1 + 453.26 * X2 + 738.23 * X3 + 854.14 * X4 + 429.43 * X5\n",
        "     + 25.64 * X6 + 13.09 * X7 - 41.27 * X8 + 195.71"
      ],
      "metadata": {
        "id": "NBKjqeq5u3Hz"
      }
    }
  ]
}